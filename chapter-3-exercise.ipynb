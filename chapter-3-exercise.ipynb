{
 "cells": [
  {
   "cell_type": "code",
   "execution_count": 3,
   "metadata": {},
   "outputs": [],
   "source": [
    "#Q1\n",
    "yearlist=[1994,1995,1996,1997,1998,1999]"
   ]
  },
  {
   "cell_type": "code",
   "execution_count": 4,
   "metadata": {},
   "outputs": [
    {
     "data": {
      "text/plain": [
       "1997"
      ]
     },
     "execution_count": 4,
     "metadata": {},
     "output_type": "execute_result"
    }
   ],
   "source": [
    "#Q2\n",
    "yearlist=[1994,1995,1996,1997,1998,1999]\n",
    "yearlist[3]"
   ]
  },
  {
   "cell_type": "code",
   "execution_count": 5,
   "metadata": {},
   "outputs": [
    {
     "data": {
      "text/plain": [
       "1999"
      ]
     },
     "execution_count": 5,
     "metadata": {},
     "output_type": "execute_result"
    }
   ],
   "source": [
    "#Q3\n",
    "yearlist=[1994,1995,1996,1997,1998,1999]\n",
    "yearlist[5]"
   ]
  },
  {
   "cell_type": "code",
   "execution_count": null,
   "metadata": {},
   "outputs": [],
   "source": [
    "#Q4\n",
    "things=[\"mozzarella\",\"cindrella\",\"salmonella\"]"
   ]
  },
  {
   "cell_type": "code",
   "execution_count": 9,
   "metadata": {},
   "outputs": [
    {
     "data": {
      "text/plain": [
       "'Cindrella'"
      ]
     },
     "execution_count": 9,
     "metadata": {},
     "output_type": "execute_result"
    }
   ],
   "source": [
    "#Q5\n",
    "things=[\"mozzarella\",\"cindrella\",\"salmonella\"]\n",
    "things[1].capitalize()"
   ]
  },
  {
   "cell_type": "code",
   "execution_count": 10,
   "metadata": {},
   "outputs": [
    {
     "name": "stdout",
     "output_type": "stream",
     "text": [
      "SALMONELLA\n"
     ]
    }
   ],
   "source": [
    "#Q6\n",
    "things=[\"mozzarella\",\"cindrella\",\"salmonella\"]\n",
    "print(things[2].upper())"
   ]
  },
  {
   "cell_type": "code",
   "execution_count": 12,
   "metadata": {},
   "outputs": [
    {
     "name": "stdout",
     "output_type": "stream",
     "text": [
      "['cindrella', 'salmonella']\n"
     ]
    }
   ],
   "source": [
    "#Q7\n",
    "things=[\"mozzarella\",\"cindrella\",\"salmonella\"]\n",
    "del things[0]\n",
    "print(things)"
   ]
  },
  {
   "cell_type": "code",
   "execution_count": 37,
   "metadata": {},
   "outputs": [],
   "source": [
    "#Q8\n",
    "surprise=[\"Groucho\",\"Chico\",\"Harpo\"]"
   ]
  },
  {
   "cell_type": "code",
   "execution_count": 19,
   "metadata": {},
   "outputs": [
    {
     "data": {
      "text/plain": [
       "'Oprah'"
      ]
     },
     "execution_count": 19,
     "metadata": {},
     "output_type": "execute_result"
    }
   ],
   "source": [
    "#Q9\n",
    "surprise=[\"Groucho\",\"Chico\",\"Harpo\"]\n",
    "surprise[2].lower()\n",
    "surprise[2]=\"oprah\"  #please suggest any other way of reversing an element of a list.\n",
    "surprise[2].capitalize()"
   ]
  },
  {
   "cell_type": "code",
   "execution_count": 23,
   "metadata": {},
   "outputs": [
    {
     "name": "stdout",
     "output_type": "stream",
     "text": [
      "{'dog': 'chien', 'cat': 'chat', 'walrus': 'morse'}\n"
     ]
    }
   ],
   "source": [
    "#Q10\n",
    "e2f={\"dog\":'chien',\"cat\":'chat',\"walrus\":'morse'}\n",
    "print(e2f)"
   ]
  },
  {
   "cell_type": "code",
   "execution_count": 53,
   "metadata": {},
   "outputs": [
    {
     "data": {
      "text/plain": [
       "'morse'"
      ]
     },
     "execution_count": 53,
     "metadata": {},
     "output_type": "execute_result"
    }
   ],
   "source": [
    "#Q11\n",
    "e2f={'dog':'chien','cat':'chat','walrus':'morse'}\n",
    "e2f['walrus']"
   ]
  },
  {
   "cell_type": "code",
   "execution_count": 6,
   "metadata": {},
   "outputs": [
    {
     "data": {
      "text/plain": [
       "{'dog': 'chien', 'cat': 'chat', 'walrus': 'morse'}"
      ]
     },
     "execution_count": 6,
     "metadata": {},
     "output_type": "execute_result"
    }
   ],
   "source": [
    "#Q12\n",
    "e2f={'dog':'chien','cat':'chat','walrus':'morse'}\n",
    "f2e=dict(e2f.items())\n",
    "f2e"
   ]
  },
  {
   "cell_type": "code",
   "execution_count": 14,
   "metadata": {},
   "outputs": [
    {
     "data": {
      "text/plain": [
       "'dog'"
      ]
     },
     "execution_count": 14,
     "metadata": {},
     "output_type": "execute_result"
    }
   ],
   "source": [
    "#Q13\n",
    "e2f={'dog':'chien','cat':'chat','walrus':'morse'}\n",
    "f2e=dict(e2f.items())\n",
    "f2e=dict(zip(f2e.values(),f2e.keys()))\n",
    "f2e['chien']"
   ]
  },
  {
   "cell_type": "code",
   "execution_count": 12,
   "metadata": {},
   "outputs": [
    {
     "name": "stdout",
     "output_type": "stream",
     "text": [
      "dict_keys(['dog', 'cat', 'walrus'])\n"
     ]
    }
   ],
   "source": [
    "#Q14\n",
    "e2f={'dog':'chien','cat':'chat','walrus':'morse'}\n",
    "print(e2f.keys())"
   ]
  },
  {
   "cell_type": "code",
   "execution_count": 18,
   "metadata": {},
   "outputs": [
    {
     "data": {
      "text/plain": [
       "{'animals': {'cats': ['henri', 'grumpy', 'lucy'], 'octopi': '', 'emus': ''},\n",
       " 'plants': '',\n",
       " 'others': ''}"
      ]
     },
     "execution_count": 18,
     "metadata": {},
     "output_type": "execute_result"
    }
   ],
   "source": [
    "#Q15\n",
    "different_animals={'cats':['henri','grumpy','lucy'],'octopi':'','emus':''}\n",
    "life={'animals':different_animals,'plants':'','others':''}\n",
    "life"
   ]
  },
  {
   "cell_type": "code",
   "execution_count": 19,
   "metadata": {},
   "outputs": [
    {
     "name": "stdout",
     "output_type": "stream",
     "text": [
      "dict_keys(['animals', 'plants', 'others'])\n"
     ]
    }
   ],
   "source": [
    "#Q16\n",
    "different_animals={'cats':['henri','grumpy','lucy'],'octopi':'','emus':''}\n",
    "life={'animals':different_animals,'plants':'','others':''}\n",
    "print(life.keys())"
   ]
  },
  {
   "cell_type": "code",
   "execution_count": 22,
   "metadata": {},
   "outputs": [
    {
     "data": {
      "text/plain": [
       "[dict_keys(['cats', 'octopi', 'emus'])]"
      ]
     },
     "execution_count": 22,
     "metadata": {},
     "output_type": "execute_result"
    }
   ],
   "source": [
    "#Q17\n",
    "different_animals={'cats':['henri','grumpy','lucy'],'octopi':'','emus':''}\n",
    "life={'animals':different_animals,'plants':'','others':''}\n",
    "[different_animals.keys()]"
   ]
  },
  {
   "cell_type": "code",
   "execution_count": 24,
   "metadata": {},
   "outputs": [
    {
     "name": "stdout",
     "output_type": "stream",
     "text": [
      "{'animals': {'cats': ['henri', 'grumpy', 'lucy'], 'octopi': '', 'emus': ''}, 'plants': '', 'others': ''} {'cats': ['henri', 'grumpy', 'lucy'], 'octopi': '', 'emus': ''}\n"
     ]
    }
   ],
   "source": [
    "#Q18\n",
    "different_animals={'cats':['henri','grumpy','lucy'],'octopi':'','emus':''}\n",
    "life={'animals':different_animals,'plants':'','others':''}\n",
    "print(life,different_animals)"
   ]
  }
 ],
 "metadata": {
  "kernelspec": {
   "display_name": "Python 3",
   "language": "python",
   "name": "python3"
  },
  "language_info": {
   "codemirror_mode": {
    "name": "ipython",
    "version": 3
   },
   "file_extension": ".py",
   "mimetype": "text/x-python",
   "name": "python",
   "nbconvert_exporter": "python",
   "pygments_lexer": "ipython3",
   "version": "3.6.5"
  }
 },
 "nbformat": 4,
 "nbformat_minor": 2
}
